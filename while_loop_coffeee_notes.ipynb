{
 "cells": [
  {
   "cell_type": "code",
   "execution_count": null,
   "metadata": {},
   "outputs": [],
   "source": [
    "import sys\n",
    "\n",
    "# Get the list of flavors from system arguments\n",
    "flavors = sys.argv[1:]\n",
    "flavors = [flavor.capitalize() for flavor in flavors]\n",
    "\n",
    "# Print the list of available flavors\n",
    "print(\n",
    "    f\"Welcome to our ice cream shop! We have the following flavors available: {', '.join(flavors)}.\")\n",
    "\n",
    "# Prompt the user to choose a flavor\n",
    "while True:\n",
    "    choice = input(\"What flavor would you like? \").strip().capitalize()\n",
    "\n",
    "    # Check if the user's choice is a part of the flavors list\n",
    "    if choice in flavors:\n",
    "        print(f\"Great choice! One {choice} ice cream coming up!\")\n",
    "        break\n",
    "    else:\n",
    "        print(f\"Sorry, we don't have {choice}. Please choose another flavor.\")\n"
   ]
  },
  {
   "cell_type": "code",
   "execution_count": null,
   "metadata": {},
   "outputs": [],
   "source": [
    "import sys\n",
    "\n",
    "# Get the list of flavors from system arguments\n",
    "flavors = sys.argv[1:]\n",
    "flavors = [flavor.capitalize() for flavor in flavors]\n",
    "\n",
    "# Print the list of available flavors\n",
    "print(\n",
    "    f\"Welcome to our ice cream shop! We have the following flavors available: {', '.join(flavors)}.\")\n",
    "\n",
    "# Prompt the user to choose a flavor\n",
    "while True:\n",
    "    choice = input(\"What flavor would you like? \").strip().capitalize()\n",
    "\n",
    "    # Check if the user's choice is a part of the flavors list\n",
    "    if choice in flavors:\n",
    "        print(f\"Great choice! One {choice} ice cream coming up!\")\n",
    "        break\n",
    "    else:\n",
    "        print(f\"Sorry, we don't have {choice}. Please choose another flavor.\")\n"
   ]
  },
  {
   "attachments": {},
   "cell_type": "markdown",
   "metadata": {},
   "source": [
    "## Ideas for IT themed coffee/Ice cream shop names\n",
    "1. How about \"Geeky Scoops\"? It's a play on the word \"geeky\", which is often associated with technology and IT, and \"scoops\", which refers to ice cream servings. It could work for both an ice cream and coffee shop, as you can serve ice cream and coffee drinks with a tech-themed twist. For example, you could have a \"Java Jolt\" coffee or an \"Artificial Intelligence\" ice cream flavor.\n",
    "2. Code Creamery - a fun play on \"cold creamery\" and \"code\", which is often associated with programming and software development.\n",
    "3. Binary Beans - a nod to the binary system used in computing, and a play on \"coffee beans\".\n",
    "4. The Techy Treat - a simple and catchy name that hints at the tech focus of the shop.\n",
    "5. Silicon Scoops - a reference to the material used in many electronic devices, and a fun alliteration with \"scoops\".\n",
    "6. Circuit Cafe - a name that combines the idea of a coffee shop with the concept of a circuit, which is often used in electronic engineering.\n",
    "7. The Byte Bar - a nod to the smallest unit of digital information, the byte, and a play on \"bar\" as a place to get coffee and ice cream.\n",
    "8. Cyber Cone - a name that combines \"cyber\", a term associated with the internet and technology, with \"cone\", a reference to ice cream cones.\n",
    "9. The Hacker's Hideout - a name that suggests a place where IT professionals can go to relax and enjoy some ice cream or coffee, and a \n",
    "10. reference to the term \"hacker\", which is often used to describe skilled programmers.\n",
    "11. The Techy Treat - a simple and catchy name that hints at the tech focus of the shop."
   ]
  },
  {
   "attachments": {},
   "cell_type": "markdown",
   "metadata": {},
   "source": [
    "## Ideas for IT themed Ice cream shop\n",
    "1. Code Creamery - a nod to both coding and ice cream.\n",
    "2. The Byte Bar - a fun play on \"bar\" and the smallest unit of digital information, the byte.\n",
    "3. Byteful Scoops - a name that incorporates the concept of a byte and the word \"scoops.\"\n",
    "4. Silicon Swirls - a reference to the element used in many electronic devices and a fun alliteration with \"swirls.\"\n",
    "5. Binary Bites - a playful reference to the binary system used in computing and a fun alliteration with \"bites.\"\n",
    "6. Cyber Creams - a name that combines the word \"cyber,\" often associated with technology, with \"creams.\"\n",
    "7. Robot's Treat - a name that invokes images of robots, often associated with technology and programming.\n",
    "8. Digital Delights - a name that incorporates the word \"digital,\" associated with computing, and \"delights.\"\n",
    "9. The Tech Cone - a name that invokes the idea of a \"tech\" or \"technology\" ice cream cone.\n",
    "10. Geektastic Gelato - a playful name that combines \"geek\" with the Italian word for ice cream, \"gelato.\"\n",
    "\n",
    "\n",
    "\n"
   ]
  },
  {
   "attachments": {},
   "cell_type": "markdown",
   "metadata": {},
   "source": [
    "## Ice Cream Flavors for The Hacker's Hideout\n",
    "1. Code Crunch - vanilla ice cream with chunks of dark chocolate and a swirl of caramel.\n",
    "2. Raspberry Pi - raspberry ice cream with pieces of dark chocolate and a raspberry swirl.\n",
    "3. Root Beer Overflow - root beer flavored ice cream with a caramel swirl and chunks of toffee.\n",
    "4. Cyber Cookies and Cream - cookies and cream ice cream with chunks of Oreo cookies and a fudge swirl.\n",
    "5. Caramel Commando - caramel ice cream with a caramel swirl and chunks of pretzels.\n",
    "6. Java Jolt - coffee ice cream with a fudge swirl and chunks of chocolate-covered espresso beans.\n",
    "7. Digital Delight - a mix of strawberry, blueberry, and raspberry ice cream with a berry swirl.\n",
    "8. The Dark Web - dark chocolate ice cream with a fudge swirl and chunks of chocolate fudge brownies.\n",
    "9. Robot Raspberry - raspberry ice cream with a raspberry swirl and chunks of dark chocolate.\n",
    "10. Mint Hack - mint ice cream with a fudge swirl and chunks of dark chocolate.\n"
   ]
  },
  {
   "cell_type": "code",
   "execution_count": 1,
   "metadata": {},
   "outputs": [
    {
     "name": "stdout",
     "output_type": "stream",
     "text": [
      "We don't currently have that flavor. Maybe we can add it. Until then, why don't you try a flavor we have.: Code Crunch, Raspberry Pi, Root Beer Overflow, Cyber Cookies and Cream, Caramel Commando, Java Jolt, Digital Delight, The Dark Web, Robot Raspberry, Mint Hack\n",
      "You chose Code Crunch: Vanilla ice cream with chunks of dark chocolate and a swirl of caramel.\n",
      "Excellent taste!\n"
     ]
    }
   ],
   "source": [
    "# Define a dictionary of ice cream flavors with their descriptions\n",
    "import random\n",
    "flavors = {\n",
    "    \"Code Crunch\": \"Vanilla ice cream with chunks of dark chocolate and a swirl of caramel.\",\n",
    "    \"Raspberry Pi\": \"Raspberry ice cream with pieces of dark chocolate and a raspberry swirl.\",\n",
    "    \"Root Beer Overflow\": \"Root beer flavored ice cream with a caramel swirl and chunks of toffee.\",\n",
    "    \"Cyber Cookies and Cream\": \"Cookies and cream ice cream with chunks of Oreo cookies and a fudge swirl.\",\n",
    "    \"Caramel Commando\": \"Caramel ice cream with a caramel swirl and chunks of pretzels.\",\n",
    "    \"Java Jolt\": \"Coffee ice cream with a fudge swirl and chunks of chocolate-covered espresso beans.\",\n",
    "    \"Digital Delight\": \"A mix of strawberry, blueberry, and raspberry ice cream with a berry swirl.\",\n",
    "    \"The Dark Web\": \"Dark chocolate ice cream with a fudge swirl and chunks of chocolate fudge brownies.\",\n",
    "    \"Robot Raspberry\": \"Raspberry ice cream with a raspberry swirl and chunks of dark chocolate.\",\n",
    "    \"Mint Hack\": \"Mint ice cream with a fudge swirl and chunks of dark chocolate.\"\n",
    "}\n",
    "\n",
    "welcome = (\"Welcome to The Hacker's Hideout Ice Cream Shop! We have the following flavors available: \")\n",
    "whatFlavor = (\" Which flavor would you like to get? \")\n",
    "response = random.choice(\n",
    "    [\"Great choice!\", \"Excellent taste!\", \"That's a winner!\"])\n",
    "# Get user's choice of ice cream flavor\n",
    "ice_cream = True\n",
    "# Check if the user's choice is in the dictionary of flavors\n",
    "while ice_cream == True:\n",
    "    choice = input(welcome +\n",
    "                   \", \".join(flavors.keys()) + \"\\n\" + '.' + whatFlavor).strip()\n",
    "    if choice in flavors:\n",
    "        # If the choice is valid, display the name and description of the flavor\n",
    "        print(f\"You chose {choice}: {flavors[choice]}\")\n",
    "        print(response)\n",
    "        ice_cream = False\n",
    "    else:\n",
    "        # If the choice is not valid, display an error message\n",
    "        print(\"We don't currently have that flavor. Maybe we can add it. Until then, why don't you try a flavor we have.: \" +\n",
    "            \", \".join(flavors.keys()))\n"
   ]
  }
 ],
 "metadata": {
  "kernelspec": {
   "display_name": "Python 3",
   "language": "python",
   "name": "python3"
  },
  "language_info": {
   "codemirror_mode": {
    "name": "ipython",
    "version": 3
   },
   "file_extension": ".py",
   "mimetype": "text/x-python",
   "name": "python",
   "nbconvert_exporter": "python",
   "pygments_lexer": "ipython3",
   "version": "3.11.1"
  },
  "orig_nbformat": 4,
  "vscode": {
   "interpreter": {
    "hash": "bd302b0bf7607ef858b0b60d817d0cdff726ce2e302705e5f11f097fbdec3ff2"
   }
  }
 },
 "nbformat": 4,
 "nbformat_minor": 2
}
